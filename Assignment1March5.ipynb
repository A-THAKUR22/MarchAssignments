{
  "nbformat": 4,
  "nbformat_minor": 0,
  "metadata": {
    "colab": {
      "provenance": []
    },
    "kernelspec": {
      "name": "python3",
      "display_name": "Python 3"
    },
    "language_info": {
      "name": "python"
    }
  },
  "cells": [
    {
      "cell_type": "markdown",
      "source": [
        "A positive number N\n",
        "Heights : A list of heights of N persons standing in a queue\n",
        "Infronts : A list of numbers corresponding to each person (P) that gives the number of persons who are taller than P and standing in front of P\n",
        "You need to return  list of actual order of persons’s height"
      ],
      "metadata": {
        "id": "kIivMVyw96Yd"
      }
    },
    {
      "cell_type": "code",
      "execution_count": 23,
      "metadata": {
        "colab": {
          "base_uri": "https://localhost:8080/"
        },
        "id": "HfCeFj6i9hL2",
        "outputId": "fc1afd2d-d203-4fef-dcea-7893ec264b55"
      },
      "outputs": [
        {
          "output_type": "stream",
          "name": "stdout",
          "text": [
            "Enter the number of people:6\n",
            "Enter height of person 1:5\n",
            "Enter height of person 2:3\n",
            "Enter height of person 3:2\n",
            "Enter height of person 4:6\n",
            "Enter height of person 5:1\n",
            "Enter height of person 6:4\n",
            "Enter the infronts value 1:0\n",
            "Enter the infronts value 2:1\n",
            "Enter the infronts value 3:2\n",
            "Enter the infronts value 4:0\n",
            "Enter the infronts value 5:3\n",
            "Enter the infronts value 6:2\n",
            "Actual order:[5, 3, 2, 1, 6, 4]\n"
          ]
        }
      ],
      "source": [
        "n=int(input(\"Enter the number of people:\"))\n",
        "hlist=[]\n",
        "infronts=[]\n",
        "for i in range(n):\n",
        "  a=int(input(f\"Enter height of person {i+1}:\"))\n",
        "  hlist.append(a)\n",
        "for j in range(n):\n",
        "  b=int(input(f\"Enter the infronts value {j+1}:\"))\n",
        "  infronts.append(b)\n",
        "people=[(height,in_fronts) for height,in_fronts in zip(hlist,infronts)]\n",
        "people.sort(key=lambda x: (-x[0],x[1]))\n",
        "finallist=[]\n",
        "for person in people:\n",
        "  finallist.insert(person[1],person)\n",
        "actual_order=[person[0] for person in finallist]\n",
        "print(f\"Actual order:{actual_order}\")\n"
      ]
    },
    {
      "cell_type": "markdown",
      "source": [
        "Find shortest unique prefix to represent each word in the list.\n"
      ],
      "metadata": {
        "id": "lvtoeD6FMwzG"
      }
    },
    {
      "cell_type": "code",
      "source": [
        "n_strings=int(input(\"Enter the numbers of strings:\"))\n",
        "l_string=[]\n",
        "for i in range(n_strings):\n",
        "  a=input(f\"Enter string {i+1}: \")\n",
        "  l_string.append(a)\n",
        "all_prefixes={}\n",
        "for w in l_string:\n",
        "  prefix=\"\"\n",
        "  for i in range(len(w)):\n",
        "    prefix+=w[i]\n",
        "    if prefix not in all_prefixes:\n",
        "      all_prefixes[prefix]=0\n",
        "    all_prefixes[prefix]+=1\n",
        "sh_prefix=[]\n",
        "for w in l_string:\n",
        "  prefix=\"\"\n",
        "  for i in range(len(w)):\n",
        "    prefix+=w[i]\n",
        "    if all_prefixes[prefix]==1 :\n",
        "      sh_prefix.append(prefix)\n",
        "      break\n",
        "print(sh_prefix)\n"
      ],
      "metadata": {
        "colab": {
          "base_uri": "https://localhost:8080/"
        },
        "id": "MC60CoeiM1a4",
        "outputId": "0a39654c-653c-4963-84c9-6622f87e37f6"
      },
      "execution_count": 27,
      "outputs": [
        {
          "output_type": "stream",
          "name": "stdout",
          "text": [
            "Enter the numbers of strings:4\n",
            "Enter string 1: zebra\n",
            "Enter string 2: dog\n",
            "Enter string 3: duck\n",
            "Enter string 4: dove\n",
            "['z', 'dog', 'du', 'dov']\n"
          ]
        }
      ]
    },
    {
      "cell_type": "markdown",
      "source": [
        "Given a 2 x N grid of integer, A, choose numbers such that the sum of the numbers\n",
        "\n",
        "is maximum and no two chosen numbers are adjacent horizontally, vertically or diagonally, and return it.\n",
        "\n",
        "Note: You can choose more than 2 numbers."
      ],
      "metadata": {
        "id": "ReJddGx-lWRT"
      }
    },
    {
      "cell_type": "code",
      "source": [
        "N=int(input(\"Enter the nuber of columns:\"))\n",
        "R=2\n",
        "matrix=[]\n",
        "for i in range(R):\n",
        "  row=[]\n",
        "  for j in range(N):\n",
        "    a=int(input(f\"Enter the element at [{i+1}][{j+1}] :\"))\n",
        "    row.append(a)\n",
        "  matrix.append(row)\n",
        "print(matrix)\n",
        "n=len(matrix[0])\n",
        "if n==0:\n",
        "  print(\"0\")\n",
        "if n==1:\n",
        "  print(max(matrix[0][0],matrix[1][0]))\n",
        "\n",
        "mat2 = [0] * n\n",
        "mat2[0] = max(matrix[0][0], matrix[1][0])\n",
        "mat2[1] = max(mat2[0], max(matrix[0][1], matrix[1][1]))\n",
        "\n",
        "for i in range(2, n):\n",
        "    mat2[i] = max(mat2[i - 1], mat2[i - 2] + max(matrix[0][i], matrix[1][i]))\n",
        "\n",
        "print(mat2[n-1])\n"
      ],
      "metadata": {
        "colab": {
          "base_uri": "https://localhost:8080/"
        },
        "id": "rxTef9d4ZZXM",
        "outputId": "5929fda6-103c-4d06-b327-3be7f69537b4"
      },
      "execution_count": 18,
      "outputs": [
        {
          "output_type": "stream",
          "name": "stdout",
          "text": [
            "Enter the nuber of columns:4\n",
            "Enter the element at [1][1] :1\n",
            "Enter the element at [1][2] :2\n",
            "Enter the element at [1][3] :3\n",
            "Enter the element at [1][4] :4\n",
            "Enter the element at [2][1] :2\n",
            "Enter the element at [2][2] :3\n",
            "Enter the element at [2][3] :4\n",
            "Enter the element at [2][4] :5\n",
            "[[1, 2, 3, 4], [2, 3, 4, 5]]\n",
            "8\n"
          ]
        }
      ]
    },
    {
      "cell_type": "code",
      "source": [],
      "metadata": {
        "id": "Eh23Rwye-hxS"
      },
      "execution_count": 17,
      "outputs": []
    }
  ]
}