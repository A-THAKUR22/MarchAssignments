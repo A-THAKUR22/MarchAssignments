{
  "nbformat": 4,
  "nbformat_minor": 0,
  "metadata": {
    "colab": {
      "provenance": [],
      "authorship_tag": "ABX9TyM7SqhWLFrkbHPqBteLQ7sA",
      "include_colab_link": true
    },
    "kernelspec": {
      "name": "python3",
      "display_name": "Python 3"
    },
    "language_info": {
      "name": "python"
    }
  },
  "cells": [
    {
      "cell_type": "markdown",
      "metadata": {
        "id": "view-in-github",
        "colab_type": "text"
      },
      "source": [
        "<a href=\"https://colab.research.google.com/github/A-THAKUR22/MarchAssignments/blob/main/Assignment2March6.ipynb\" target=\"_parent\"><img src=\"https://colab.research.google.com/assets/colab-badge.svg\" alt=\"Open In Colab\"/></a>"
      ]
    },
    {
      "cell_type": "markdown",
      "source": [
        " You are given an array 'arr' consisting of 'n' integers which denote the position of a stall.\n",
        "\n",
        "You are also given an integer 'k' which denotes the number of aggressive cows.\n",
        "\n",
        "You are given the task of assigning stalls to 'k' cows such that the minimum distance between any two of them is the maximum possible.\n",
        "\n",
        "Print the maximum possible minimum distance."
      ],
      "metadata": {
        "id": "6Ucv3vaBU9aH"
      }
    },
    {
      "cell_type": "code",
      "execution_count": null,
      "metadata": {
        "colab": {
          "base_uri": "https://localhost:8080/"
        },
        "id": "V28ot05GU49r",
        "outputId": "27fd961a-47fe-44ed-9475-cb3d9015d4d0"
      },
      "outputs": [
        {
          "output_type": "stream",
          "name": "stdout",
          "text": [
            "5 2\n",
            "4 2 1 3 6\n",
            "5\n"
          ]
        }
      ],
      "source": [
        "def valid_distance(arr,n,k,distance):\n",
        "  cows_placed=1\n",
        "  last_pos=arr[0]\n",
        "  for i in range(1,n):\n",
        "    if arr[i]-last_pos>=distance:\n",
        "      cows_placed+=1\n",
        "      last_pos=arr[i]\n",
        "  return cows_placed==k\n",
        "\n",
        "def maximum_min_distance(arr,n,k):\n",
        "  arr.sort()\n",
        "  low=1\n",
        "  high=arr[-1]-arr[0]\n",
        "  result=-1\n",
        "  while low<=high:\n",
        "    mid=low+(high-low)//2\n",
        "    if valid_distance(arr,n,k,mid):\n",
        "      result=mid\n",
        "      low=mid+1\n",
        "\n",
        "    else:\n",
        "      high=mid-1\n",
        "  return result\n",
        "\n",
        "n,k=map(int,input().split())\n",
        "arr=list(map(int,input().split()))\n",
        "print(maximum_min_distance(arr,n,k))"
      ]
    },
    {
      "cell_type": "markdown",
      "source": [
        "Ayush is studying for ninjatest which will be held after 'N' days, And to score good marks he has to study 'M' chapters and the ith chapter requires TIME[i] seconds to study. The day in Ayush’s world has 100^100 seconds. There are some rules that are followed by Ayush while studying.\n",
        "\n",
        "1. He reads the chapter in a sequential order, i.e. he studies i+1th chapter only after he studies ith chapter.\n",
        "\n",
        "2. If he starts some chapter on a particular day he completes it that day itself.\n",
        "\n",
        "3. He wants to distribute his workload over 'N' days, so he wants to minimize the maximum amount of time he studies in a day.\n",
        "\n",
        "Your task is to find out the minimal value of the maximum amount of time for which Ayush studies in a day, in order to complete all the 'M' chapters in no more than 'N' days.\n"
      ],
      "metadata": {
        "id": "ZvlPzmtvlecI"
      }
    },
    {
      "cell_type": "code",
      "source": [
        "def is_ch_read(chapters,n,m,max_time):\n",
        "  current_time=0\n",
        "  days_needed=1\n",
        "  for chapter_time in chapters:\n",
        "    if current_time+chapter_time>=max_time:\n",
        "      current_time+=chapter_time\n",
        "    else:\n",
        "      current_time=chapter_time\n",
        "      days_needed+=1\n",
        "  return days_needed<=n\n",
        "\n",
        "def max_time(chapters,n,m):\n",
        "  min=0\n",
        "  max=sum(chapters)\n",
        "  result=-1\n",
        "  while min<=max:\n",
        "    time=min+(max-min)//2\n",
        "    if is_ch_read(chapters,n,m,time):\n",
        "      result=time\n",
        "      min=time+1\n",
        "    else:\n",
        "      max=time-1\n",
        "  return result\n",
        "\n",
        "n,m=map(int,input(\"Enter the number of days and number of chapters separated by space :\").split())\n",
        "chapters=list(map(int,input(\"Enter the time needed to complete each chapter separated by spaces :\").split()))\n",
        "print(max_time(chapters,n,m))\n"
      ],
      "metadata": {
        "colab": {
          "base_uri": "https://localhost:8080/"
        },
        "id": "cbPy7hAGs7eu",
        "outputId": "aa4218ff-e588-415c-c0f9-2e5cdd4ddf0b"
      },
      "execution_count": null,
      "outputs": [
        {
          "output_type": "stream",
          "name": "stdout",
          "text": [
            "Enter the number of days and number of chapters separated by space :3 5\n",
            "Enter the time needed to complete each chapter separated by spaces :1 2 2 3 1\n",
            "4\n"
          ]
        }
      ]
    },
    {
      "cell_type": "markdown",
      "source": [
        "You have a binary tree of 'N' unique nodes and a Start node from where the tree will start to burn. Given that the Start node will always exist in the tree, your task is to print the time (in minutes) that it will take to burn the whole tree.\n",
        "\n",
        "It is given that it takes 1 minute for the fire to travel from the burning node to its adjacent node and burn down the adjacent node.\n"
      ],
      "metadata": {
        "id": "SXBEo-P4Q_Tw"
      }
    },
    {
      "cell_type": "code",
      "source": [
        "class Tree:\n",
        "  def __init__(self,value):\n",
        "    self.value=value\n",
        "    self.left=None\n",
        "    self.right=None\n",
        "    self.burn=-1\n",
        "\n",
        "def insert_values(root,value):\n",
        "  if root is None:\n",
        "    return Tree(value)\n",
        "  else:\n",
        "    if value<=root.value:\n",
        "      root.left=insert_values(root.left,value)\n",
        "    else:\n",
        "      root.right=insert_values(root.right,value)\n",
        "  return root\n",
        "\n",
        "def construct_tree(values):\n",
        "  root=None\n",
        "  for value in values:\n",
        "    root=insert_values(root,value)\n",
        "  return root\n",
        "\n",
        "def burn_time(root,start):\n",
        "  if root is None:\n",
        "    return 0\n",
        "  if start==root:\n",
        "    return 0\n",
        "  left_burn_time=burn_time(root.left,start)\n",
        "  right_burn_time=burn_time(root.right,start)\n",
        "\n",
        "  root.time_to_burn = max(left_burn_time, right_burn_time) + 1\n",
        "\n",
        "  return root.time_to_burn\n",
        "\n",
        "\n",
        "\n",
        "arr=list(map(int,input(\"Enter values for tree separated by space :\").split()))\n",
        "root = construct_tree(arr)\n",
        "\n",
        "start_node_value=int(input(\"Enter the starting node value of burning of tree :\"))\n",
        "start_node=None\n",
        "\n",
        "def find_start_node(node, value):\n",
        "  if node is None:\n",
        "    return\n",
        "  if node.value == value:\n",
        "    global start_node\n",
        "    start_node = node\n",
        "    return\n",
        "  find_start_node(node.left, value)\n",
        "  find_start_node(node.right, value)\n",
        "\n",
        "find_start_node(root, start_node_value)\n",
        "burn_time(root, start_node)\n",
        "\n",
        "print(root.time_to_burn)"
      ],
      "metadata": {
        "id": "VjHhIBo4RGT5"
      },
      "execution_count": null,
      "outputs": []
    }
  ]
}